{
  "nbformat": 4,
  "nbformat_minor": 0,
  "metadata": {
    "colab": {
      "name": "EllipsoMeasures.ipynb",
      "provenance": [],
      "collapsed_sections": [],
      "toc_visible": true,
      "authorship_tag": "ABX9TyPFM1jEC/FVwXSs9D4fPr20",
      "include_colab_link": true
    },
    "kernelspec": {
      "name": "python3",
      "display_name": "Python 3"
    },
    "language_info": {
      "name": "python"
    }
  },
  "cells": [
    {
      "cell_type": "markdown",
      "metadata": {
        "id": "view-in-github",
        "colab_type": "text"
      },
      "source": [
        "<a href=\"https://colab.research.google.com/github/LivingDeadCat/EllipsoMeasure/blob/main/EllipsoMeasure.ipynb\" target=\"_parent\"><img src=\"https://colab.research.google.com/assets/colab-badge.svg\" alt=\"Open In Colab\"/></a>"
      ]
    },
    {
      "cell_type": "markdown",
      "source": [
        "# Start Values"
      ],
      "metadata": {
        "id": "9DaiED0LMYj1"
      }
    },
    {
      "cell_type": "code",
      "execution_count": null,
      "metadata": {
        "id": "PCJByg9ILdj5"
      },
      "outputs": [],
      "source": [
        "n_lambda = 0  #There should be chosen refractive index equation for the material measured\n",
        "ellipsometer_2theta = 70 #Angle of incidence of the measuring lightbeam\n",
        " "
      ]
    }
  ]
}